{
 "cells": [
  {
   "cell_type": "markdown",
   "id": "8712a4e0",
   "metadata": {},
   "source": [
    "## Tensorflow For Beginners\n",
    "\n",
    "    - Load a prebuilt dataset.\n",
    "    - Build a neural network machine learning model that classifies images.\n",
    "    - Train this neural network.\n",
    "    - Evaluate the accuracy of the model.\n"
   ]
  },
  {
   "cell_type": "code",
   "execution_count": 1,
   "id": "58d5d261",
   "metadata": {},
   "outputs": [
    {
     "name": "stdout",
     "output_type": "stream",
     "text": [
      "Tensorflow verson : 2.11.0\n"
     ]
    }
   ],
   "source": [
    "# importing tensorflow\n",
    "import tensorflow as tf\n",
    "print(\"Tensorflow verson :\", tf.__version__)"
   ]
  },
  {
   "cell_type": "markdown",
   "id": "ac966da8",
   "metadata": {},
   "source": [
    "#### Loading The Dataset"
   ]
  },
  {
   "cell_type": "code",
   "execution_count": 4,
   "id": "e9486932",
   "metadata": {},
   "outputs": [
    {
     "name": "stdout",
     "output_type": "stream",
     "text": [
      "Downloading data from https://storage.googleapis.com/tensorflow/tf-keras-datasets/mnist.npz\n",
      "11490434/11490434 [==============================] - 103s 9us/step\n"
     ]
    }
   ],
   "source": [
    "mnist = tf.keras.datasets.mnist\n",
    "(x_train, y_train), (x_test, y_test) = mnist.load_data()\n",
    "x_train, x_test = x_train /255.0, x_test / 255.0"
   ]
  },
  {
   "cell_type": "markdown",
   "id": "e7b3f9c1",
   "metadata": {},
   "source": [
    "#### Building The ML model"
   ]
  },
  {
   "cell_type": "code",
   "execution_count": 5,
   "id": "dc2c112d",
   "metadata": {},
   "outputs": [],
   "source": [
    "model = tf.keras.models.Sequential([\n",
    "    tf.keras.layers.Flatten(input_shape = (28, 28)),\n",
    "    tf.keras.layers.Dense(128, activation = \"relu\"),\n",
    "    tf.keras.layers.Dropout(0.2),\n",
    "    tf.keras.layers.Dense(10)\n",
    "])"
   ]
  },
  {
   "cell_type": "code",
   "execution_count": 6,
   "id": "e12209c5",
   "metadata": {},
   "outputs": [
    {
     "data": {
      "text/plain": [
       "array([[-0.17302892,  0.17040867,  0.13680719, -0.39075547, -0.00138113,\n",
       "        -0.19099107,  0.9229238 ,  0.7547394 ,  0.24723352, -0.10589351]],\n",
       "      dtype=float32)"
      ]
     },
     "execution_count": 6,
     "metadata": {},
     "output_type": "execute_result"
    }
   ],
   "source": [
    "predictions = model(x_train[:1]).numpy()\n",
    "predictions"
   ]
  },
  {
   "cell_type": "code",
   "execution_count": 7,
   "id": "70812f23",
   "metadata": {},
   "outputs": [
    {
     "data": {
      "text/plain": [
       "array([[0.06729709, 0.09487447, 0.09173951, 0.05413011, 0.07989912,\n",
       "        0.06609908, 0.20135505, 0.17018488, 0.10245048, 0.07197022]],\n",
       "      dtype=float32)"
      ]
     },
     "execution_count": 7,
     "metadata": {},
     "output_type": "execute_result"
    }
   ],
   "source": [
    "# The tf.nn.softmax function converts these logits to probabilities for each class\n",
    "tf.nn.softmax(predictions).numpy()"
   ]
  },
  {
   "cell_type": "code",
   "execution_count": 8,
   "id": "5f7cb6f8",
   "metadata": {},
   "outputs": [],
   "source": [
    "# Define a loss function for training using losses.SparseCategoricalCrossentropy\n",
    "\n",
    "loss_fn = tf.keras.losses.SparseCategoricalCrossentropy(from_logits=True)"
   ]
  },
  {
   "cell_type": "code",
   "execution_count": 9,
   "id": "9a78022a",
   "metadata": {},
   "outputs": [
    {
     "data": {
      "text/plain": [
       "2.7166004"
      ]
     },
     "execution_count": 9,
     "metadata": {},
     "output_type": "execute_result"
    }
   ],
   "source": [
    "loss_fn(y_train[:1], predictions).numpy()"
   ]
  },
  {
   "cell_type": "code",
   "execution_count": 10,
   "id": "998f9d98",
   "metadata": {},
   "outputs": [],
   "source": [
    "model.compile(optimizer='adam',\n",
    "              loss=loss_fn,\n",
    "              metrics=['accuracy'])\n"
   ]
  },
  {
   "cell_type": "markdown",
   "id": "578c1537",
   "metadata": {},
   "source": [
    "#### Training the Model"
   ]
  },
  {
   "cell_type": "code",
   "execution_count": 11,
   "id": "90de7c9d",
   "metadata": {},
   "outputs": [
    {
     "name": "stdout",
     "output_type": "stream",
     "text": [
      "Epoch 1/5\n",
      "1875/1875 [==============================] - 13s 5ms/step - loss: 0.2933 - accuracy: 0.9151\n",
      "Epoch 2/5\n",
      "1875/1875 [==============================] - 9s 5ms/step - loss: 0.1398 - accuracy: 0.9586\n",
      "Epoch 3/5\n",
      "1875/1875 [==============================] - 9s 5ms/step - loss: 0.1055 - accuracy: 0.9683\n",
      "Epoch 4/5\n",
      "1875/1875 [==============================] - 9s 5ms/step - loss: 0.0867 - accuracy: 0.9729\n",
      "Epoch 5/5\n",
      "1875/1875 [==============================] - 9s 5ms/step - loss: 0.0723 - accuracy: 0.9777\n"
     ]
    },
    {
     "data": {
      "text/plain": [
       "<keras.callbacks.History at 0x1bb72e4a6b0>"
      ]
     },
     "execution_count": 11,
     "metadata": {},
     "output_type": "execute_result"
    }
   ],
   "source": [
    "model.fit(x_train, y_train, epochs=5)"
   ]
  },
  {
   "cell_type": "code",
   "execution_count": 12,
   "id": "d8b6d84a",
   "metadata": {},
   "outputs": [
    {
     "name": "stdout",
     "output_type": "stream",
     "text": [
      "313/313 - 1s - loss: 0.0736 - accuracy: 0.9781 - 1s/epoch - 5ms/step\n"
     ]
    },
    {
     "data": {
      "text/plain": [
       "[0.07357438653707504, 0.9781000018119812]"
      ]
     },
     "execution_count": 12,
     "metadata": {},
     "output_type": "execute_result"
    }
   ],
   "source": [
    "# Model Evaluation\n",
    "model.evaluate(x_test,  y_test, verbose=2)"
   ]
  },
  {
   "cell_type": "code",
   "execution_count": 13,
   "id": "1d633416",
   "metadata": {},
   "outputs": [],
   "source": [
    "probability_model = tf.keras.Sequential([\n",
    "  model,\n",
    "  tf.keras.layers.Softmax()\n",
    "])\n"
   ]
  },
  {
   "cell_type": "code",
   "execution_count": 14,
   "id": "0e2c0ffe",
   "metadata": {},
   "outputs": [
    {
     "data": {
      "text/plain": [
       "<tf.Tensor: shape=(5, 10), dtype=float32, numpy=\n",
       "array([[6.3680062e-08, 2.5300578e-08, 1.4719060e-06, 1.4808678e-04,\n",
       "        2.9426996e-11, 2.2233097e-07, 2.6359531e-11, 9.9983096e-01,\n",
       "        3.5373089e-06, 1.5639031e-05],\n",
       "       [2.9841674e-09, 3.2960674e-05, 9.9996638e-01, 6.5180092e-07,\n",
       "        1.2724139e-19, 8.7250385e-09, 1.2169714e-09, 1.2278238e-14,\n",
       "        5.6977600e-11, 3.2893085e-17],\n",
       "       [1.4937335e-07, 9.9960226e-01, 5.4329706e-05, 7.4368645e-06,\n",
       "        2.1323583e-06, 1.5783118e-06, 3.5474848e-06, 3.1367620e-04,\n",
       "        1.4783161e-05, 6.5999416e-08],\n",
       "       [9.9952102e-01, 1.9274795e-08, 1.7355154e-04, 2.3301450e-06,\n",
       "        1.2345207e-05, 3.0308361e-06, 2.6305957e-04, 2.3073520e-05,\n",
       "        9.6433688e-09, 1.5740275e-06],\n",
       "       [9.2240378e-05, 1.3801349e-09, 2.6737272e-05, 1.7951531e-07,\n",
       "        9.9500412e-01, 5.2655560e-07, 5.6607285e-05, 3.4894900e-05,\n",
       "        5.9720055e-06, 4.7787144e-03]], dtype=float32)>"
      ]
     },
     "execution_count": 14,
     "metadata": {},
     "output_type": "execute_result"
    }
   ],
   "source": [
    "probability_model(x_test[:5])"
   ]
  }
 ],
 "metadata": {
  "kernelspec": {
   "display_name": "Python 3 (ipykernel)",
   "language": "python",
   "name": "python3"
  },
  "language_info": {
   "codemirror_mode": {
    "name": "ipython",
    "version": 3
   },
   "file_extension": ".py",
   "mimetype": "text/x-python",
   "name": "python",
   "nbconvert_exporter": "python",
   "pygments_lexer": "ipython3",
   "version": "3.10.0"
  }
 },
 "nbformat": 4,
 "nbformat_minor": 5
}
