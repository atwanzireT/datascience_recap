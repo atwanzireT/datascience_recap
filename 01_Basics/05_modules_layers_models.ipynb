{
 "cells": [
  {
   "cell_type": "markdown",
   "id": "1312c103",
   "metadata": {},
   "source": [
    "## Introduction to modules, layers and models"
   ]
  },
  {
   "cell_type": "code",
   "execution_count": 8,
   "id": "b06370ea",
   "metadata": {},
   "outputs": [
    {
     "name": "stdout",
     "output_type": "stream",
     "text": [
      "The tensorboard extension is already loaded. To reload it, use:\n",
      "  %reload_ext tensorboard\n"
     ]
    }
   ],
   "source": [
    "import tensorflow as tf\n",
    "from datetime import datetime\n",
    "%load_ext tensorboard"
   ]
  },
  {
   "cell_type": "markdown",
   "id": "3712e59f",
   "metadata": {},
   "source": [
    "## Defining models and layers"
   ]
  },
  {
   "cell_type": "code",
   "execution_count": 9,
   "id": "86c53dd7",
   "metadata": {},
   "outputs": [],
   "source": [
    "class Dense(tf.Module):\n",
    "  def __init__(self, in_features, out_features, name=None):\n",
    "    super().__init__(name=name)\n",
    "    self.w = tf.Variable(\n",
    "      tf.random.normal([in_features, out_features]), name='w')\n",
    "    self.b = tf.Variable(tf.zeros([out_features]), name='b')\n",
    "  def __call__(self, x):\n",
    "    y = tf.matmul(x, self.w) + self.b\n",
    "    return tf.nn.relu(y)\n"
   ]
  },
  {
   "cell_type": "code",
   "execution_count": 10,
   "id": "541b42c6",
   "metadata": {},
   "outputs": [
    {
     "name": "stdout",
     "output_type": "stream",
     "text": [
      "Model results: tf.Tensor([[0.        2.2472663]], shape=(1, 2), dtype=float32)\n"
     ]
    }
   ],
   "source": [
    "class SequentialModule(tf.Module):\n",
    "  def __init__(self, name=None):\n",
    "    super().__init__(name=name)\n",
    "\n",
    "    self.dense_1 = Dense(in_features=3, out_features=3)\n",
    "    self.dense_2 = Dense(in_features=3, out_features=2)\n",
    "\n",
    "  def __call__(self, x):\n",
    "    x = self.dense_1(x)\n",
    "    return self.dense_2(x)\n",
    "\n",
    "# You have made a model!\n",
    "my_model = SequentialModule(name=\"the_model\")\n",
    "\n",
    "# Call it, with random results\n",
    "print(\"Model results:\", my_model(tf.constant([[2.0, 2.0, 2.0]])))\n"
   ]
  },
  {
   "cell_type": "code",
   "execution_count": 11,
   "id": "c72ce9c7",
   "metadata": {},
   "outputs": [
    {
     "name": "stdout",
     "output_type": "stream",
     "text": [
      "Submodules: (<__main__.Dense object at 0x000001C7EA02AD10>, <__main__.Dense object at 0x000001C7EA02ABC0>)\n"
     ]
    }
   ],
   "source": [
    "print(\"Submodules:\", my_model.submodules)"
   ]
  },
  {
   "cell_type": "markdown",
   "id": "a36210a6",
   "metadata": {},
   "source": [
    "#### A two-layer linear layer model made out of modules."
   ]
  },
  {
   "cell_type": "code",
   "execution_count": null,
   "id": "84cadc6d",
   "metadata": {},
   "outputs": [],
   "source": []
  }
 ],
 "metadata": {
  "kernelspec": {
   "display_name": "Python 3 (ipykernel)",
   "language": "python",
   "name": "python3"
  },
  "language_info": {
   "codemirror_mode": {
    "name": "ipython",
    "version": 3
   },
   "file_extension": ".py",
   "mimetype": "text/x-python",
   "name": "python",
   "nbconvert_exporter": "python",
   "pygments_lexer": "ipython3",
   "version": "3.10.0"
  }
 },
 "nbformat": 4,
 "nbformat_minor": 5
}
